{
  "nbformat": 4,
  "nbformat_minor": 0,
  "metadata": {
    "colab": {
      "name": "TransferAerials.ipynb",
      "provenance": [],
      "collapsed_sections": [],
      "authorship_tag": "ABX9TyNCuBu291fE1cZVXg969yR1",
      "include_colab_link": true
    },
    "kernelspec": {
      "name": "python3",
      "display_name": "Python 3"
    },
    "language_info": {
      "name": "python"
    }
  },
  "cells": [
    {
      "cell_type": "markdown",
      "metadata": {
        "id": "view-in-github",
        "colab_type": "text"
      },
      "source": [
        "<a href=\"https://colab.research.google.com/github/ChrissyMarie/AerialSilksImageClassification/blob/main/TransferAerials.ipynb\" target=\"_parent\"><img src=\"https://colab.research.google.com/assets/colab-badge.svg\" alt=\"Open In Colab\"/></a>"
      ]
    },
    {
      "cell_type": "markdown",
      "metadata": {
        "id": "knbTGCTyG-Ij"
      },
      "source": [
        "Aerial Silks image classification transfer learning model using resnet50. This model will classify images of 5 different aerial silks poses."
      ]
    },
    {
      "cell_type": "code",
      "metadata": {
        "id": "Vzd04dINUBq_"
      },
      "source": [
        "import numpy as np\n",
        "import pandas as pd\n",
        "\n",
        "import matplotlib.pyplot as plt\n",
        "%matplotlib inline \n",
        "\n",
        "import cv2\n",
        "\n",
        "import os"
      ],
      "execution_count": null,
      "outputs": []
    },
    {
      "cell_type": "code",
      "metadata": {
        "colab": {
          "base_uri": "https://localhost:8080/"
        },
        "id": "Se81VDM0ccse",
        "outputId": "14089607-1ff4-493c-9f4d-5a2e6903ce65"
      },
      "source": [
        "from google.colab import drive\n",
        "drive.mount('/content/gdrive')"
      ],
      "execution_count": null,
      "outputs": [
        {
          "output_type": "stream",
          "name": "stdout",
          "text": [
            "Drive already mounted at /content/gdrive; to attempt to forcibly remount, call drive.mount(\"/content/gdrive\", force_remount=True).\n"
          ]
        }
      ]
    },
    {
      "cell_type": "code",
      "metadata": {
        "id": "q69bli1yUUGw"
      },
      "source": [
        "# Fixed for our Aerial classes\n",
        "NUM_CLASSES = 5\n",
        "\n",
        "# Fixed for color images\n",
        "CHANNELS = 3\n",
        "\n",
        "IMAGE_RESIZE = 224\n",
        "RESNET50_POOLING_AVERAGE = 'avg'\n",
        "DENSE_LAYER_ACTIVATION = 'softmax'\n",
        "OBJECTIVE_FUNCTION = 'categorical_crossentropy'\n",
        "\n",
        "# Common accuracy metric for all outputs, but can use different metrics for different output\n",
        "LOSS_METRICS = ['accuracy']\n",
        "\n",
        "# EARLY_STOP_PATIENCE must be < NUM_EPOCHS\n",
        "NUM_EPOCHS = 30\n",
        "EARLY_STOP_PATIENCE = 5\n",
        "\n",
        "# These steps value should be proper FACTOR of no.-of-images in train & valid folders respectively\n",
        "# Training images processed in each step would be no.-of-train-images / STEPS_PER_EPOCH_TRAINING\n",
        "STEPS_PER_EPOCH_TRAINING = 5\n",
        "STEPS_PER_EPOCH_VALIDATION = 10\n",
        "\n",
        "# These steps value should be proper FACTOR of no.-of-images in train & valid folders respectively\n",
        "# NOTE that these BATCH* are for Keras ImageDataGenerator batching to fill epoch step input\n",
        "BATCH_SIZE_TRAINING = 5\n",
        "BATCH_SIZE_VALIDATION = 5\n",
        "\n",
        "# Using 1 to easily manage mapping between test_generator & prediction for submission preparation\n",
        "BATCH_SIZE_TESTING = 1"
      ],
      "execution_count": 184,
      "outputs": []
    },
    {
      "cell_type": "code",
      "metadata": {
        "colab": {
          "base_uri": "https://localhost:8080/"
        },
        "id": "qP1n_fwRUUI5",
        "outputId": "79fea971-e4c3-492e-e90c-f7e700b9ca18"
      },
      "source": [
        "#from tensorflow.python.keras.applications import ResNet50\n",
        "#from tensorflow.python.keras.models import Sequential\n",
        "\n",
        "\n",
        "### \n",
        "### Below systax is available with TensorFlow 1.11 onwards but this upgrade is not available for Kaggle kernel yet\n",
        "###\n",
        "import tensorflow as tf\n",
        "print(tf.__version__)\n",
        "from tensorflow import keras\n",
        "from tensorflow.keras.applications import ResNet50\n",
        "from tensorflow.keras.models import Sequential\n",
        "from tensorflow.keras.layers import Dense\n",
        "from tensorflow.keras.layers import Dropout"
      ],
      "execution_count": 185,
      "outputs": [
        {
          "output_type": "stream",
          "name": "stdout",
          "text": [
            "2.7.0\n"
          ]
        }
      ]
    },
    {
      "cell_type": "code",
      "metadata": {
        "id": "-bWPL8I7UUK_"
      },
      "source": [
        "resnet_weights_path = '../input/resnet50/resnet50_weights_tf_dim_ordering_tf_kernels_notop.h5'"
      ],
      "execution_count": 186,
      "outputs": []
    },
    {
      "cell_type": "code",
      "metadata": {
        "id": "tQS8GklTUUNN"
      },
      "source": [
        "model = Sequential()\n",
        "\n",
        "model.add(ResNet50(include_top = False, weights = \"imagenet\", pooling = RESNET50_POOLING_AVERAGE))\n",
        "#more layers\n",
        "#model.add(Dense(64, activation = 'relu'))\n",
        "#model.add(Dropout(0.2))\n",
        "#model.add(Dense(32, activation = 'relu'))\n",
        "#model.add(Dropout(0.2))\n",
        "#model.add(Dense(16, activation = 'relu'))\n",
        "#model.add(Dropout(0.2))\n",
        "\n",
        "model.add(Dense(NUM_CLASSES, activation = DENSE_LAYER_ACTIVATION))\n",
        "model.layers[0].trainable = False"
      ],
      "execution_count": 187,
      "outputs": []
    },
    {
      "cell_type": "code",
      "metadata": {
        "colab": {
          "base_uri": "https://localhost:8080/"
        },
        "id": "Mau2VdfWUUPg",
        "outputId": "c41d077d-9ab3-4dd2-da9e-065ea50e33b1"
      },
      "source": [
        "model.summary()"
      ],
      "execution_count": 188,
      "outputs": [
        {
          "output_type": "stream",
          "name": "stdout",
          "text": [
            "Model: \"sequential_2\"\n",
            "_________________________________________________________________\n",
            " Layer (type)                Output Shape              Param #   \n",
            "=================================================================\n",
            " resnet50 (Functional)       (None, 2048)              23587712  \n",
            "                                                                 \n",
            " dense_5 (Dense)             (None, 5)                 10245     \n",
            "                                                                 \n",
            "=================================================================\n",
            "Total params: 23,597,957\n",
            "Trainable params: 10,245\n",
            "Non-trainable params: 23,587,712\n",
            "_________________________________________________________________\n"
          ]
        }
      ]
    },
    {
      "cell_type": "code",
      "metadata": {
        "colab": {
          "base_uri": "https://localhost:8080/"
        },
        "id": "XlwfcHO6UnZt",
        "outputId": "95d35f8a-1617-4cc9-92c6-d512765de4b8"
      },
      "source": [
        "from tensorflow.keras import optimizers\n",
        "\n",
        "sgd = optimizers.SGD(lr = 0.01, decay = 1e-6, momentum = 0.9, nesterov = True)\n",
        "model.compile(optimizer = sgd, loss = OBJECTIVE_FUNCTION, metrics = LOSS_METRICS)"
      ],
      "execution_count": 189,
      "outputs": [
        {
          "output_type": "stream",
          "name": "stderr",
          "text": [
            "/usr/local/lib/python3.7/dist-packages/keras/optimizer_v2/gradient_descent.py:102: UserWarning: The `lr` argument is deprecated, use `learning_rate` instead.\n",
            "  super(SGD, self).__init__(name, **kwargs)\n"
          ]
        }
      ]
    },
    {
      "cell_type": "code",
      "metadata": {
        "colab": {
          "base_uri": "https://localhost:8080/"
        },
        "id": "0gfwC8EZUnb6",
        "outputId": "df7a333a-62f8-44da-e7c3-bae7a4b558e2"
      },
      "source": [
        "from tensorflow.keras.applications.resnet50 import preprocess_input\n",
        "from tensorflow.keras.preprocessing.image import ImageDataGenerator\n",
        "\n",
        "image_size = IMAGE_RESIZE\n",
        "\n",
        "data_generator = ImageDataGenerator(preprocessing_function=preprocess_input)\n",
        "\n",
        "train_generator = data_generator.flow_from_directory(\n",
        "        \"./gdrive/MyDrive/AerialClassification/AerialTRAINING/\",\n",
        "        target_size=(image_size, image_size),\n",
        "        batch_size=BATCH_SIZE_TRAINING,\n",
        "        class_mode='categorical')\n",
        "\n",
        "validation_generator = data_generator.flow_from_directory(\n",
        "        \"./gdrive/MyDrive/AerialClassification/AerialTESTING/\",\n",
        "        target_size=(image_size, image_size),\n",
        "        batch_size=BATCH_SIZE_VALIDATION,\n",
        "        class_mode='categorical') "
      ],
      "execution_count": 190,
      "outputs": [
        {
          "output_type": "stream",
          "name": "stdout",
          "text": [
            "Found 257 images belonging to 5 classes.\n",
            "Found 50 images belonging to 5 classes.\n"
          ]
        }
      ]
    },
    {
      "cell_type": "code",
      "metadata": {
        "colab": {
          "base_uri": "https://localhost:8080/"
        },
        "id": "uSmzhx_oUnd_",
        "outputId": "fe890dc0-33cf-4668-db90-328249849c47"
      },
      "source": [
        "(BATCH_SIZE_TRAINING, len(train_generator), BATCH_SIZE_VALIDATION, len(validation_generator))"
      ],
      "execution_count": 191,
      "outputs": [
        {
          "output_type": "execute_result",
          "data": {
            "text/plain": [
              "(5, 52, 5, 10)"
            ]
          },
          "metadata": {},
          "execution_count": 191
        }
      ]
    },
    {
      "cell_type": "code",
      "metadata": {
        "id": "koL_oRu9Ung2"
      },
      "source": [
        "from tensorflow.python.keras.callbacks import EarlyStopping, ModelCheckpoint\n",
        "\n",
        "cb_early_stopper = EarlyStopping(monitor = 'val_loss', patience = EARLY_STOP_PATIENCE)\n",
        "cb_checkpointer = ModelCheckpoint(filepath = '../working/best.hdf5', monitor = 'val_loss', save_best_only = True, mode = 'auto')\n"
      ],
      "execution_count": 192,
      "outputs": []
    },
    {
      "cell_type": "code",
      "metadata": {
        "colab": {
          "base_uri": "https://localhost:8080/"
        },
        "id": "E2noskMRU3Gn",
        "outputId": "7fb1a64a-8fb4-4b35-b197-95ec105f961d"
      },
      "source": [
        "fit_history = model.fit_generator(\n",
        "        train_generator,\n",
        "        steps_per_epoch=STEPS_PER_EPOCH_TRAINING,\n",
        "        epochs = NUM_EPOCHS,\n",
        "        validation_data=validation_generator,\n",
        "        validation_steps=STEPS_PER_EPOCH_VALIDATION,\n",
        "        callbacks=[cb_checkpointer, cb_early_stopper]\n",
        ")\n",
        "model.load_weights(\"../working/best.hdf5\")"
      ],
      "execution_count": 193,
      "outputs": [
        {
          "output_type": "stream",
          "name": "stderr",
          "text": [
            "/usr/local/lib/python3.7/dist-packages/ipykernel_launcher.py:7: UserWarning: `Model.fit_generator` is deprecated and will be removed in a future version. Please use `Model.fit`, which supports generators.\n",
            "  import sys\n"
          ]
        },
        {
          "output_type": "stream",
          "name": "stdout",
          "text": [
            "Epoch 1/30\n",
            "5/5 [==============================] - ETA: 0s - loss: 4.4237 - accuracy: 0.1600"
          ]
        },
        {
          "output_type": "stream",
          "name": "stderr",
          "text": [
            "/usr/local/lib/python3.7/dist-packages/keras/engine/functional.py:1410: CustomMaskWarning: Custom mask layers require a config and must override get_config. When loading, the custom mask layer must be passed to the custom_objects argument.\n",
            "  layer_config = serialize_layer_fn(layer)\n"
          ]
        },
        {
          "output_type": "stream",
          "name": "stdout",
          "text": [
            "\b\b\b\b\b\b\b\b\b\b\b\b\b\b\b\b\b\b\b\b\b\b\b\b\b\b\b\b\b\b\b\b\b\b\b\b\b\b\b\b\b\b\b\b\b\b\b\b\b\b\b\b\b\b\b\b\b\b\b\b\b\b\b\b\b\b\b\b\b\b\b\b\b\b\b\b\b\b\b\b\r5/5 [==============================] - 19s 4s/step - loss: 4.4237 - accuracy: 0.1600 - val_loss: 11.6662 - val_accuracy: 0.2400\n",
            "Epoch 2/30\n",
            "5/5 [==============================] - 15s 3s/step - loss: 6.6302 - accuracy: 0.3600 - val_loss: 8.7345 - val_accuracy: 0.3400\n",
            "Epoch 3/30\n",
            "5/5 [==============================] - 14s 3s/step - loss: 8.2477 - accuracy: 0.5200 - val_loss: 10.3040 - val_accuracy: 0.3400\n",
            "Epoch 4/30\n",
            "5/5 [==============================] - 14s 3s/step - loss: 9.6820 - accuracy: 0.4400 - val_loss: 15.6420 - val_accuracy: 0.3000\n",
            "Epoch 5/30\n",
            "5/5 [==============================] - 14s 3s/step - loss: 10.0111 - accuracy: 0.4400 - val_loss: 10.6848 - val_accuracy: 0.4200\n",
            "Epoch 6/30\n",
            "5/5 [==============================] - 14s 3s/step - loss: 6.8136 - accuracy: 0.5200 - val_loss: 6.6216 - val_accuracy: 0.5000\n",
            "Epoch 7/30\n",
            "5/5 [==============================] - 14s 3s/step - loss: 2.6019 - accuracy: 0.6400 - val_loss: 8.0729 - val_accuracy: 0.5400\n",
            "Epoch 8/30\n",
            "5/5 [==============================] - 14s 3s/step - loss: 4.1348 - accuracy: 0.7200 - val_loss: 9.3955 - val_accuracy: 0.5000\n",
            "Epoch 9/30\n",
            "5/5 [==============================] - 14s 3s/step - loss: 5.0383 - accuracy: 0.8000 - val_loss: 10.6482 - val_accuracy: 0.5000\n",
            "Epoch 10/30\n",
            "5/5 [==============================] - 15s 3s/step - loss: 6.0954 - accuracy: 0.7200 - val_loss: 6.2221 - val_accuracy: 0.5800\n",
            "Epoch 11/30\n",
            "5/5 [==============================] - 15s 3s/step - loss: 5.0386 - accuracy: 0.7600 - val_loss: 6.0547 - val_accuracy: 0.6200\n",
            "Epoch 12/30\n",
            "5/5 [==============================] - 15s 3s/step - loss: 2.4983 - accuracy: 0.8400 - val_loss: 6.1433 - val_accuracy: 0.5800\n",
            "Epoch 13/30\n",
            "5/5 [==============================] - 14s 3s/step - loss: 1.1205 - accuracy: 0.9200 - val_loss: 6.4454 - val_accuracy: 0.6200\n",
            "Epoch 14/30\n",
            "5/5 [==============================] - 14s 3s/step - loss: 0.2915 - accuracy: 0.8800 - val_loss: 10.1267 - val_accuracy: 0.5400\n",
            "Epoch 15/30\n",
            "5/5 [==============================] - 14s 3s/step - loss: 0.7691 - accuracy: 0.9200 - val_loss: 7.8435 - val_accuracy: 0.5800\n",
            "Epoch 16/30\n",
            "5/5 [==============================] - 14s 3s/step - loss: 5.8431 - accuracy: 0.6800 - val_loss: 9.5768 - val_accuracy: 0.5400\n"
          ]
        }
      ]
    },
    {
      "cell_type": "code",
      "metadata": {
        "colab": {
          "base_uri": "https://localhost:8080/"
        },
        "id": "vhzgyXwgFlSN",
        "outputId": "d7b1ae43-eaf9-4401-c646-536c3fc36215"
      },
      "source": [
        "model.save('./gdrive/MyDrive/silks_model.h5')"
      ],
      "execution_count": 195,
      "outputs": [
        {
          "output_type": "stream",
          "name": "stderr",
          "text": [
            "/usr/local/lib/python3.7/dist-packages/keras/engine/functional.py:1410: CustomMaskWarning: Custom mask layers require a config and must override get_config. When loading, the custom mask layer must be passed to the custom_objects argument.\n",
            "  layer_config = serialize_layer_fn(layer)\n"
          ]
        }
      ]
    },
    {
      "cell_type": "code",
      "metadata": {
        "colab": {
          "base_uri": "https://localhost:8080/"
        },
        "id": "XBPcyqltU3Iy",
        "outputId": "938dec16-c303-45bb-eb07-1cf0c9d41806"
      },
      "source": [
        "print(fit_history.history.keys())"
      ],
      "execution_count": null,
      "outputs": [
        {
          "output_type": "stream",
          "name": "stdout",
          "text": [
            "dict_keys(['loss', 'accuracy', 'val_loss', 'val_accuracy'])\n"
          ]
        }
      ]
    },
    {
      "cell_type": "code",
      "metadata": {
        "colab": {
          "base_uri": "https://localhost:8080/",
          "height": 276
        },
        "id": "dKrofOXUU3Kt",
        "outputId": "08999d3a-754a-4437-cb29-34c7e44cf61b"
      },
      "source": [
        "plt.figure(1, figsize = (15,8)) \n",
        "    \n",
        "plt.subplot(221)  \n",
        "plt.plot(fit_history.history['accuracy'])  \n",
        "plt.plot(fit_history.history['val_accuracy'])  \n",
        "plt.title('model accuracy')  \n",
        "plt.ylabel('accuracy')  \n",
        "plt.xlabel('epoch')  \n",
        "plt.legend(['train', 'valid']) \n",
        "    \n",
        "plt.subplot(222)  \n",
        "plt.plot(fit_history.history['loss'])  \n",
        "plt.plot(fit_history.history['val_loss'])  \n",
        "plt.title('model loss')  \n",
        "plt.ylabel('loss')  \n",
        "plt.xlabel('epoch')  \n",
        "plt.legend(['train', 'valid']) \n",
        "\n",
        "plt.show()"
      ],
      "execution_count": null,
      "outputs": [
        {
          "output_type": "display_data",
          "data": {
            "image/png": "[encoded data removed]",
            "text/plain": [
              "<Figure size 1080x576 with 2 Axes>"
            ]
          },
          "metadata": {
            "needs_background": "light"
          }
        }
      ]
    },
    {
      "cell_type": "code",
      "metadata": {
        "id": "iwKswQNT40rv"
      },
      "source": [
        "model.predict()"
      ],
      "execution_count": null,
      "outputs": []
    },
    {
      "cell_type": "code",
      "metadata": {
        "colab": {
          "base_uri": "https://localhost:8080/",
          "height": 70
        },
        "id": "qXsfLcQkU3M9",
        "outputId": "fee2502c-a928-4c6e-d7f9-685aee93932a"
      },
      "source": [
        "test_generator = data_generator.flow_from_directory(\n",
        "    directory = './gdrive/MyDrive/AerialClassification/AerialTRAINING/',\n",
        "    target_size = (image_size, image_size),\n",
        "    batch_size = BATCH_SIZE_TESTING,\n",
        "    class_mode = None,\n",
        "    shuffle = False,\n",
        "    seed = 123\n",
        ")\n"
      ],
      "execution_count": 180,
      "outputs": [
        {
          "output_type": "stream",
          "name": "stdout",
          "text": [
            "Found 257 images belonging to 5 classes.\n"
          ]
        },
        {
          "output_type": "execute_result",
          "data": {
            "application/vnd.google.colaboratory.intrinsic+json": {
              "type": "string"
            },
            "text/plain": [
              "'\\nfor i in test_generator:\\n    #print(test_generator.batch_index, test_generator.batch_size)\\n    idx = (test_generator.batch_index - 1) * test_generator.batch_size\\n    print(test_generator.filenames[idx : idx + test_generator.batch_size])\\n    \\n'"
            ]
          },
          "metadata": {},
          "execution_count": 180
        }
      ]
    },
    {
      "cell_type": "code",
      "metadata": {
        "colab": {
          "base_uri": "https://localhost:8080/"
        },
        "id": "Nyu4AcwJVCXS",
        "outputId": "3bedf13f-7ed2-4ccb-dfd2-77a12b2ed331"
      },
      "source": [
        "# Reset before each call to predict\n",
        "test_generator.reset()\n",
        "\n",
        "pred = model.predict_generator(test_generator, steps = len(test_generator), verbose = 1)\n",
        "\n",
        "predicted_class_indices = np.argmax(pred, axis = 1)"
      ],
      "execution_count": null,
      "outputs": [
        {
          "output_type": "stream",
          "name": "stderr",
          "text": [
            "/usr/local/lib/python3.7/dist-packages/ipykernel_launcher.py:4: UserWarning: `Model.predict_generator` is deprecated and will be removed in a future version. Please use `Model.predict`, which supports generators.\n",
            "  after removing the cwd from sys.path.\n"
          ]
        },
        {
          "output_type": "stream",
          "name": "stdout",
          "text": [
            "257/257 [==============================] - 54s 205ms/step\n"
          ]
        }
      ]
    },
    {
      "cell_type": "code",
      "metadata": {
        "colab": {
          "base_uri": "https://localhost:8080/"
        },
        "id": "N5hmLgTsVCfC",
        "outputId": "d7bb16e5-27a9-4ae0-d740-3e1535f44734"
      },
      "source": [
        "predicted_class_indices"
      ],
      "execution_count": null,
      "outputs": [
        {
          "output_type": "execute_result",
          "data": {
            "text/plain": [
              "array([0, 1, 0, 0, 0, 0, 0, 0, 0, 0, 0, 0, 0, 1, 0, 0, 1, 2, 2, 0, 0, 3,\n",
              "       0, 2, 3, 3, 1, 0, 0, 0, 0, 1, 3, 0, 2, 0, 1, 0, 0, 0, 0, 0, 0, 0,\n",
              "       3, 0, 1, 3, 1, 1, 0, 0, 0, 0, 1, 2, 1, 1, 1, 1, 1, 1, 1, 1, 1, 1,\n",
              "       1, 1, 1, 1, 1, 1, 1, 1, 1, 1, 1, 1, 1, 1, 0, 1, 1, 1, 4, 1, 1, 1,\n",
              "       1, 1, 1, 1, 2, 1, 1, 1, 1, 1, 1, 1, 4, 1, 1, 1, 1, 2, 4, 1, 1, 0,\n",
              "       1, 1, 3, 3, 2, 2, 2, 2, 2, 0, 1, 2, 2, 1, 1, 1, 0, 2, 0, 2, 1, 2,\n",
              "       2, 2, 0, 0, 1, 2, 1, 2, 2, 2, 2, 2, 2, 0, 2, 2, 1, 0, 2, 0, 1, 1,\n",
              "       2, 1, 3, 3, 3, 4, 3, 3, 3, 3, 4, 3, 1, 3, 3, 3, 4, 3, 3, 3, 3, 3,\n",
              "       3, 3, 3, 3, 3, 0, 3, 3, 3, 3, 0, 3, 3, 3, 3, 3, 3, 3, 4, 3, 4, 4,\n",
              "       3, 3, 1, 3, 3, 4, 3, 1, 3, 1, 4, 3, 4, 3, 4, 3, 3, 4, 4, 3, 4, 4,\n",
              "       4, 1, 4, 3, 3, 3, 1, 1, 4, 3, 2, 0, 3, 4, 4, 1, 4, 1, 4, 1, 4, 1,\n",
              "       1, 1, 1, 4, 1, 4, 3, 1, 4, 3, 0, 4, 3, 3, 3])"
            ]
          },
          "metadata": {},
          "execution_count": 44
        }
      ]
    },
    {
      "cell_type": "code",
      "metadata": {
        "id": "ec31wP-oVCZ4"
      },
      "source": [
        "TEST_DIR = './gdrive/MyDrive/AerialClassification/AerialTRAINING/'\n",
        "f, ax = plt.subplots(20, 5, figsize = (20, 30))\n",
        "\n",
        "# a if condition else b\n",
        "print(test_generator.class_indices)\n",
        "names = list(test_generator.class_indices.keys())\n",
        "pred_text = [names[x] for x in predicted_class_indices]\n",
        "\n",
        "for i in range(0,100):\n",
        "    imgBGR = cv2.imread(TEST_DIR + test_generator.filenames[i])\n",
        "    imgRGB = cv2.cvtColor(imgBGR, cv2.COLOR_BGR2RGB)\n",
        "    \n",
        "\n",
        "\n",
        "    ax[i//5, i%5].imshow(imgRGB)\n",
        "    ax[i//5, i%5].axis('off')\n",
        "    ax[i//5, i%5].set_title(\"Predicted:{}\".format(pred_text[i]))    \n",
        "\n",
        "plt.show()"
      ],
      "execution_count": null,
      "outputs": []
    },
    {
      "cell_type": "code",
      "metadata": {
        "id": "9SL_0i6aVCb2"
      },
      "source": [
        "results_df = pd.DataFrame(\n",
        "    {\n",
        "        'id': pd.Series(test_generator.filenames), \n",
        "        'label': pd.Series(predicted_class_indices)\n",
        "    })\n",
        "results_df['id'] = results_df.id.str.extract('(\\d+)')\n",
        "results_df['id'] = pd.to_numeric(results_df['id'], errors = 'coerce')\n",
        "results_df.sort_values(by='id', inplace = True)\n",
        "\n",
        "results_df.to_csv('submission.csv', index=False)\n",
        "results_df.head()"
      ],
      "execution_count": null,
      "outputs": []
    },
    {
      "cell_type": "code",
      "metadata": {
        "colab": {
          "base_uri": "https://localhost:8080/"
        },
        "id": "qc1CgfD27btk",
        "outputId": "5c42b8cb-61c1-4e38-da6f-4e3d89dc927e"
      },
      "source": [
        "train_generator.reset()\n",
        "\n",
        "labels = []\n",
        "\n",
        "for x in train_generator.next():\n",
        "    if len(x.shape) == 2:\n",
        "        for y in x:\n",
        "            labels.append(names[y.tolist().index(1)])\n",
        "\n",
        "labels\n"
      ],
      "execution_count": 183,
      "outputs": [
        {
          "output_type": "execute_result",
          "data": {
            "text/plain": [
              "['Belay_Split',\n",
              " 'Crossback_Straddle',\n",
              " 'Crossback_Straddle',\n",
              " 'Gazelle',\n",
              " 'Gazelle']"
            ]
          },
          "metadata": {},
          "execution_count": 183
        }
      ]
    },
    {
      "cell_type": "code",
      "metadata": {
        "id": "AcKHwclp7j4G"
      },
      "source": [
        " !pip install coremltools"
      ],
      "execution_count": null,
      "outputs": []
    },
    {
      "cell_type": "code",
      "metadata": {
        "colab": {
          "base_uri": "https://localhost:8080/"
        },
        "id": "vepk_KAMGwrl",
        "outputId": "86148ec0-85a1-404e-a9db-1261cd1596df"
      },
      "source": [
        "import coremltools\n",
        "\n",
        "coreml_model = coremltools.convert(model)\n",
        "\n",
        "coreml_out_dict = coreml_model.predict({\"image\":x})\n",
        "coreml_out = list(coreml_out_dict.values())[0]\n",
        "np.testing.assert_allclose(tf_out, coreml_out, rtol=1e-2, atol=1e-1)\n",
        "\n",
        "# convert to an image input Core ML model\n",
        "# mobilenet model expects images to be normalized in the interval [-1,1]\n",
        "# hence bias of -1 and scale of 1/127\n",
        "mlmodel = ct.convert(model,\n",
        "                    inputs=[ct.ImageType(bias=[-1,-1,-1], scale=1/127)])\n",
        "\n",
        "mlmodel.save(\"mobilenet.mlmodel\")\n",
        "\n",
        "\n",
        "coreml_model.save('./gdrive/MyDrive/silks.mlmodel')"
      ],
      "execution_count": 198,
      "outputs": [
        {
          "output_type": "stream",
          "name": "stderr",
          "text": [
            "Running TensorFlow Graph Passes: 100%|██████████| 5/5 [00:02<00:00,  2.05 passes/s]\n",
            "Converting Frontend ==> MIL Ops: 100%|██████████| 452/452 [00:01<00:00, 409.18 ops/s] \n",
            "Running MIL Common passes: 100%|██████████| 34/34 [00:01<00:00, 18.41 passes/s]\n",
            "Running MIL Clean up passes: 100%|██████████| 9/9 [00:00<00:00, 46.73 passes/s]\n",
            "Translating MIL ==> NeuralNetwork Ops: 100%|██████████| 515/515 [00:03<00:00, 157.56 ops/s]\n"
          ]
        }
      ]
    }
  ]
}