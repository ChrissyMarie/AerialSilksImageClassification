{
  "nbformat": 4,
  "nbformat_minor": 0,
  "metadata": {
    "colab": {
      "name": "AerialClassificationCNN.ipynb",
      "provenance": [],
      "collapsed_sections": [],
      "include_colab_link": true
    },
    "kernelspec": {
      "name": "python3",
      "display_name": "Python 3"
    },
    "language_info": {
      "name": "python"
    }
  },
  "cells": [
    {
      "cell_type": "markdown",
      "metadata": {
        "id": "view-in-github",
        "colab_type": "text"
      },
      "source": [
        "<a href=\"https://colab.research.google.com/github/ChrissyMarie/AerialSilksImageClassification/blob/main/AerialClassificationCNN.ipynb\" target=\"_parent\"><img src=\"https://colab.research.google.com/assets/colab-badge.svg\" alt=\"Open In Colab\"/></a>"
      ]
    },
    {
      "cell_type": "markdown",
      "metadata": {
        "id": "U91jL8pwDBFF"
      },
      "source": [
        "This is an image classification model that can detect 5 different poses commonly performed on aerial silks: the scorpion, double footlock splits, belay splits, gazelle, and crossback straddle."
      ]
    },
    {
      "cell_type": "code",
      "metadata": {
        "id": "OBp2mk-R70z_"
      },
      "source": [
        "import os\n",
        "import zipfile\n",
        "import random\n",
        "import datetime\n",
        "from packaging import version\n",
        "import numpy as np\n",
        "from IPython.display import Image, display\n",
        "import matplotlib.pyplot as plt\n",
        "from matplotlib import pyplot\n",
        "from matplotlib.image import imread\n",
        "\n",
        "# TensorFlow and tf.keras\n",
        "import tensorflow as tf\n",
        "from tensorflow import keras\n",
        "from tensorflow.keras.optimizers import RMSprop\n",
        "from tensorflow.keras.preprocessing.image import ImageDataGenerator\n",
        "from shutil import copyfile\n",
        "#from plot_keras_history import plot_history"
      ],
      "execution_count": 1,
      "outputs": []
    },
    {
      "cell_type": "code",
      "metadata": {
        "id": "6fW2X3cD795z"
      },
      "source": [
        "%matplotlib inline\n",
        "np.set_printoptions(precision=3, suppress=True)"
      ],
      "execution_count": 2,
      "outputs": []
    },
    {
      "cell_type": "code",
      "metadata": {
        "id": "hO5feeLF7-CH",
        "colab": {
          "base_uri": "https://localhost:8080/"
        },
        "outputId": "31a94a3d-73ed-4dcf-9808-d2bb9ad7107d"
      },
      "source": [
        "print(\"This notebook requires TensorFlow 2.0 or above\")\n",
        "print(\"TensorFlow version: \", tf.__version__)\n",
        "assert version.parse(tf.__version__).release[0] >=2"
      ],
      "execution_count": 3,
      "outputs": [
        {
          "output_type": "stream",
          "name": "stdout",
          "text": [
            "This notebook requires TensorFlow 2.0 or above\n",
            "TensorFlow version:  2.7.0\n"
          ]
        }
      ]
    },
    {
      "cell_type": "code",
      "metadata": {
        "id": "VUOplopE7-Gk",
        "colab": {
          "base_uri": "https://localhost:8080/"
        },
        "outputId": "b6bdaa96-ebf9-4776-888b-f6fea44dc6ae"
      },
      "source": [
        "print(\"Keras version: \", keras.__version__)"
      ],
      "execution_count": 4,
      "outputs": [
        {
          "output_type": "stream",
          "name": "stdout",
          "text": [
            "Keras version:  2.7.0\n"
          ]
        }
      ]
    },
    {
      "cell_type": "code",
      "metadata": {
        "id": "Iju4Gv8o2COs"
      },
      "source": [
        "#suppress warnings\n",
        "def warn(*args, **kwargs):\n",
        "    pass\n",
        "import warnings\n",
        "warnings.warn = warn"
      ],
      "execution_count": 5,
      "outputs": []
    },
    {
      "cell_type": "code",
      "metadata": {
        "id": "q9-5OgzC8Flm",
        "colab": {
          "base_uri": "https://localhost:8080/"
        },
        "outputId": "82bfd2b7-9f2e-4721-88f8-c5b4078bdea0"
      },
      "source": [
        "from google.colab import drive\n",
        "drive.mount('/content/gdrive')"
      ],
      "execution_count": 6,
      "outputs": [
        {
          "output_type": "stream",
          "name": "stdout",
          "text": [
            "Mounted at /content/gdrive\n"
          ]
        }
      ]
    },
    {
      "cell_type": "markdown",
      "metadata": {
        "id": "dphG4h2k9Hq1"
      },
      "source": [
        "Movements to classify:\n",
        "  - Scorpion\n",
        "  - Gazelle\n",
        "  - Crossback Straddle\n",
        "  - Double Footlock Split\n",
        "  - Belay Split\n",
        "  "
      ]
    },
    {
      "cell_type": "code",
      "metadata": {
        "id": "cl3YKoUf8s34",
        "colab": {
          "base_uri": "https://localhost:8080/"
        },
        "outputId": "19cf622f-c887-4c3b-fa86-cf18e9b15aa5"
      },
      "source": [
        "print(len(os.listdir('./gdrive/MyDrive/AerialClassification/AerialTRAINING/Scorpion')))\n"
      ],
      "execution_count": 7,
      "outputs": [
        {
          "output_type": "stream",
          "name": "stdout",
          "text": [
            "52\n"
          ]
        }
      ]
    },
    {
      "cell_type": "code",
      "metadata": {
        "id": "EKxnhrVK8s5-"
      },
      "source": [
        "model = tf.keras.models.Sequential([\n",
        "    tf.keras.layers.Conv2D(16, (3, 3), activation='relu', input_shape=(150, 150, 3)),\n",
        "    tf.keras.layers.MaxPooling2D(2, 2),\n",
        "    tf.keras.layers.Conv2D(32, (3, 3), activation='relu'),\n",
        "    tf.keras.layers.MaxPooling2D(2, 2),\n",
        "    tf.keras.layers.Conv2D(64, (3, 3), activation='relu'),\n",
        "    tf.keras.layers.MaxPooling2D(2, 2),\n",
        "    tf.keras.layers.Flatten(),\n",
        "    tf.keras.layers.Dense(512, activation='relu'),\n",
        "    tf.keras.layers.Dense(5, activation='softmax')\n",
        "])"
      ],
      "execution_count": 8,
      "outputs": []
    },
    {
      "cell_type": "code",
      "metadata": {
        "colab": {
          "base_uri": "https://localhost:8080/"
        },
        "id": "7nTuhWMn2yJo",
        "outputId": "4e3d894d-b1e7-49dc-9b97-074e52e76d1b"
      },
      "source": [
        "model.summary()"
      ],
      "execution_count": 9,
      "outputs": [
        {
          "output_type": "stream",
          "name": "stdout",
          "text": [
            "Model: \"sequential\"\n",
            "_________________________________________________________________\n",
            " Layer (type)                Output Shape              Param #   \n",
            "=================================================================\n",
            " conv2d (Conv2D)             (None, 148, 148, 16)      448       \n",
            "                                                                 \n",
            " max_pooling2d (MaxPooling2D  (None, 74, 74, 16)       0         \n",
            " )                                                               \n",
            "                                                                 \n",
            " conv2d_1 (Conv2D)           (None, 72, 72, 32)        4640      \n",
            "                                                                 \n",
            " max_pooling2d_1 (MaxPooling  (None, 36, 36, 32)       0         \n",
            " 2D)                                                             \n",
            "                                                                 \n",
            " conv2d_2 (Conv2D)           (None, 34, 34, 64)        18496     \n",
            "                                                                 \n",
            " max_pooling2d_2 (MaxPooling  (None, 17, 17, 64)       0         \n",
            " 2D)                                                             \n",
            "                                                                 \n",
            " flatten (Flatten)           (None, 18496)             0         \n",
            "                                                                 \n",
            " dense (Dense)               (None, 512)               9470464   \n",
            "                                                                 \n",
            " dense_1 (Dense)             (None, 5)                 2565      \n",
            "                                                                 \n",
            "=================================================================\n",
            "Total params: 9,496,613\n",
            "Trainable params: 9,496,613\n",
            "Non-trainable params: 0\n",
            "_________________________________________________________________\n"
          ]
        }
      ]
    },
    {
      "cell_type": "code",
      "metadata": {
        "id": "phTHILzH252m"
      },
      "source": [
        "model.compile(optimizer='adam', loss='categorical_crossentropy', metrics=['acc'])"
      ],
      "execution_count": 10,
      "outputs": []
    },
    {
      "cell_type": "code",
      "metadata": {
        "id": "r8wNm7-z8s8K",
        "colab": {
          "base_uri": "https://localhost:8080/"
        },
        "outputId": "38b15c81-292a-4bb4-87a7-ad75ff588f4d"
      },
      "source": [
        "TRAINING_DIR = \"./gdrive/MyDrive/AerialClassification/AerialTRAINING/\"\n",
        "train_datagen = ImageDataGenerator(rescale=1.0/255.)\n",
        "train_generator = train_datagen.flow_from_directory(TRAINING_DIR,\n",
        "                                                    batch_size=5,\n",
        "                                                    target_size=(150, 150))\n",
        "\n",
        "VALIDATION_DIR = \"./gdrive/MyDrive/AerialClassification/AerialTESTING/\"\n",
        "validation_datagen = ImageDataGenerator(rescale=1.0/255.)\n",
        "validation_generator = validation_datagen.flow_from_directory(VALIDATION_DIR,\n",
        "                                                              batch_size=5,\n",
        "                                                              target_size=(150, 150))\n"
      ],
      "execution_count": 11,
      "outputs": [
        {
          "output_type": "stream",
          "name": "stdout",
          "text": [
            "Found 257 images belonging to 5 classes.\n",
            "Found 50 images belonging to 5 classes.\n"
          ]
        }
      ]
    },
    {
      "cell_type": "code",
      "metadata": {
        "id": "NFl1KpWX8s-k",
        "colab": {
          "base_uri": "https://localhost:8080/"
        },
        "outputId": "d795429c-0e66-41c6-aa1b-41fa8b63cbac"
      },
      "source": [
        "history = model.fit(train_generator, epochs=100,\n",
        "                    validation_data=validation_generator, \n",
        "                    validation_steps=6,\n",
        "                    callbacks=[tf.keras.callbacks.EarlyStopping(monitor='val_acc', patience=5)]\n",
        "                    )"
      ],
      "execution_count": 12,
      "outputs": [
        {
          "output_type": "stream",
          "name": "stdout",
          "text": [
            "Epoch 1/100\n",
            "52/52 [==============================] - 85s 2s/step - loss: 1.6624 - acc: 0.2607 - val_loss: 1.6047 - val_acc: 0.2667\n",
            "Epoch 2/100\n",
            "52/52 [==============================] - 22s 434ms/step - loss: 1.4239 - acc: 0.3774 - val_loss: 2.0089 - val_acc: 0.2667\n",
            "Epoch 3/100\n",
            "52/52 [==============================] - 21s 398ms/step - loss: 0.9608 - acc: 0.6537 - val_loss: 1.5329 - val_acc: 0.3000\n",
            "Epoch 4/100\n",
            "52/52 [==============================] - 20s 380ms/step - loss: 0.4476 - acc: 0.8638 - val_loss: 2.0347 - val_acc: 0.2667\n",
            "Epoch 5/100\n",
            "52/52 [==============================] - 20s 378ms/step - loss: 0.2276 - acc: 0.9222 - val_loss: 2.5997 - val_acc: 0.2667\n",
            "Epoch 6/100\n",
            "52/52 [==============================] - 20s 378ms/step - loss: 0.1404 - acc: 0.9650 - val_loss: 3.2696 - val_acc: 0.2667\n",
            "Epoch 7/100\n",
            "52/52 [==============================] - 19s 364ms/step - loss: 0.1263 - acc: 0.9611 - val_loss: 3.6206 - val_acc: 0.3667\n",
            "Epoch 8/100\n",
            "52/52 [==============================] - 20s 379ms/step - loss: 0.0927 - acc: 0.9883 - val_loss: 2.5303 - val_acc: 0.4000\n",
            "Epoch 9/100\n",
            "52/52 [==============================] - 20s 378ms/step - loss: 0.0163 - acc: 1.0000 - val_loss: 4.2762 - val_acc: 0.3333\n",
            "Epoch 10/100\n",
            "52/52 [==============================] - 19s 374ms/step - loss: 0.0024 - acc: 1.0000 - val_loss: 3.6952 - val_acc: 0.4000\n",
            "Epoch 11/100\n",
            "52/52 [==============================] - 19s 370ms/step - loss: 9.0360e-04 - acc: 1.0000 - val_loss: 3.5592 - val_acc: 0.4333\n",
            "Epoch 12/100\n",
            "52/52 [==============================] - 20s 382ms/step - loss: 3.5024e-04 - acc: 1.0000 - val_loss: 3.9514 - val_acc: 0.4333\n",
            "Epoch 13/100\n",
            "52/52 [==============================] - 20s 379ms/step - loss: 2.5128e-04 - acc: 1.0000 - val_loss: 4.0211 - val_acc: 0.3333\n",
            "Epoch 14/100\n",
            "52/52 [==============================] - 19s 369ms/step - loss: 1.9211e-04 - acc: 1.0000 - val_loss: 4.9234 - val_acc: 0.3333\n",
            "Epoch 15/100\n",
            "52/52 [==============================] - 20s 375ms/step - loss: 1.5047e-04 - acc: 1.0000 - val_loss: 2.9291 - val_acc: 0.3667\n",
            "Epoch 16/100\n",
            "52/52 [==============================] - 20s 372ms/step - loss: 1.2210e-04 - acc: 1.0000 - val_loss: 4.7024 - val_acc: 0.3667\n"
          ]
        }
      ]
    },
    {
      "cell_type": "code",
      "metadata": {
        "colab": {
          "base_uri": "https://localhost:8080/"
        },
        "id": "0i0VfrY51zTB",
        "outputId": "12247a17-68d6-4d97-8738-ce86af1c9e05"
      },
      "source": [
        "history_dict = history.history\n",
        "history_dict.keys()"
      ],
      "execution_count": 13,
      "outputs": [
        {
          "output_type": "execute_result",
          "data": {
            "text/plain": [
              "dict_keys(['loss', 'acc', 'val_loss', 'val_acc'])"
            ]
          },
          "metadata": {},
          "execution_count": 13
        }
      ]
    },
    {
      "cell_type": "code",
      "metadata": {
        "id": "AYbONZo911R_"
      },
      "source": [
        "acc = history.history['acc']\n",
        "val_acc = history.history['val_acc']\n",
        "loss = history.history['loss']\n",
        "val_loss = history.history['val_loss']"
      ],
      "execution_count": 14,
      "outputs": []
    },
    {
      "cell_type": "code",
      "metadata": {
        "colab": {
          "base_uri": "https://localhost:8080/",
          "height": 295
        },
        "id": "Z56dzd4O11Wf",
        "outputId": "b1c6a23f-abc1-4d18-bc8b-808dae7d209d"
      },
      "source": [
        "plt.plot(range(1, len(acc) + 1), history.history['acc'], label = 'Training')\n",
        "plt.plot(range(1, len(val_acc) + 1), history.history['val_acc'], label = 'Validation')\n",
        "plt.ylim([0.7, 1.0])\n",
        "plt.title('Training and Validation Accuracy')\n",
        "plt.xlabel('Epochs')\n",
        "plt.ylabel('Accuracy')\n",
        "plt.legend()\n",
        "plt.show()"
      ],
      "execution_count": 15,
      "outputs": [
        {
          "output_type": "display_data",
          "data": {
            "image/png": "[encoded data removed]",
            "text/plain": [
              "<Figure size 432x288 with 1 Axes>"
            ]
          },
          "metadata": {
            "needs_background": "light"
          }
        }
      ]
    },
    {
      "cell_type": "code",
      "metadata": {
        "colab": {
          "base_uri": "https://localhost:8080/",
          "height": 295
        },
        "id": "CVRWqMaG11bD",
        "outputId": "20507590-05c0-4625-c056-0a48fda1f063"
      },
      "source": [
        "plt.plot(range(1, len(loss) + 1), history.history['loss'], label = 'Training')\n",
        "plt.plot(range(1, len(val_loss) + 1), history.history['val_loss'], label = 'Validation')\n",
        "plt.ylim([0.0, 0.5])\n",
        "plt.title('Training and Validation Loss')\n",
        "plt.xlabel('Epochs')\n",
        "plt.ylabel('Loss')\n",
        "plt.legend()\n",
        "plt.show()"
      ],
      "execution_count": 16,
      "outputs": [
        {
          "output_type": "display_data",
          "data": {
            "image/png": "[encoded data removed]",
            "text/plain": [
              "<Figure size 432x288 with 1 Axes>"
            ]
          },
          "metadata": {
            "needs_background": "light"
          }
        }
      ]
    },
    {
      "cell_type": "code",
      "metadata": {
        "id": "iWQMNdvp3Kq8"
      },
      "source": [
        "predictions = model.predict(validation_generator, validation_generator)"
      ],
      "execution_count": 17,
      "outputs": []
    },
    {
      "cell_type": "code",
      "metadata": {
        "colab": {
          "base_uri": "https://localhost:8080/"
        },
        "id": "KUcqnjBd3Kwp",
        "outputId": "e98f569b-292b-469d-9723-3ab571db555a"
      },
      "source": [
        "print('shape of preds: ', predictions.shape)"
      ],
      "execution_count": 18,
      "outputs": [
        {
          "output_type": "stream",
          "name": "stdout",
          "text": [
            "shape of preds:  (50, 5)\n"
          ]
        }
      ]
    },
    {
      "cell_type": "code",
      "metadata": {
        "colab": {
          "base_uri": "https://localhost:8080/"
        },
        "id": "wI9lWz_a3Z40",
        "outputId": "79e88d56-ef91-4247-ef5e-5ce5c460cb9c"
      },
      "source": [
        "predictions[5]"
      ],
      "execution_count": 19,
      "outputs": [
        {
          "output_type": "execute_result",
          "data": {
            "text/plain": [
              "array([0.002, 0.963, 0.003, 0.032, 0.   ], dtype=float32)"
            ]
          },
          "metadata": {},
          "execution_count": 19
        }
      ]
    },
    {
      "cell_type": "code",
      "metadata": {
        "id": "ieVNNPZ-sVTw"
      },
      "source": [
        ""
      ],
      "execution_count": 19,
      "outputs": []
    },
    {
      "cell_type": "code",
      "metadata": {
        "id": "HJibIfprsVV4"
      },
      "source": [
        ""
      ],
      "execution_count": 19,
      "outputs": []
    },
    {
      "cell_type": "code",
      "metadata": {
        "id": "XPzgUwZTsVYb"
      },
      "source": [
        ""
      ],
      "execution_count": 19,
      "outputs": []
    }
  ]
}